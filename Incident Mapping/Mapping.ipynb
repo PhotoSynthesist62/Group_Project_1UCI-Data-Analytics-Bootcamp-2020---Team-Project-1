{
 "cells": [
  {
   "cell_type": "code",
   "execution_count": 1,
   "metadata": {},
   "outputs": [],
   "source": [
    "# imports\n",
    "import pandas as pd\n",
    "import numpy as np\n",
    "import requests\n",
    "import gmaps\n",
    "import os\n",
    "import datetime\n",
    "\n",
    "from google_key import g_key\n",
    "gmaps.configure(api_key = g_key)\n",
    "\n",
    "# setting variables\n",
    "incidents_filename = \"../Resources/NoHo_Street_Traffic_Collision_Data_2015_2019.csv\""
   ]
  },
  {
   "cell_type": "code",
   "execution_count": 2,
   "metadata": {},
   "outputs": [
    {
     "data": {
      "text/html": [
       "<div>\n",
       "<style scoped>\n",
       "    .dataframe tbody tr th:only-of-type {\n",
       "        vertical-align: middle;\n",
       "    }\n",
       "\n",
       "    .dataframe tbody tr th {\n",
       "        vertical-align: top;\n",
       "    }\n",
       "\n",
       "    .dataframe thead th {\n",
       "        text-align: right;\n",
       "    }\n",
       "</style>\n",
       "<table border=\"1\" class=\"dataframe\">\n",
       "  <thead>\n",
       "    <tr style=\"text-align: right;\">\n",
       "      <th></th>\n",
       "      <th>DR Number</th>\n",
       "      <th>Date Reported</th>\n",
       "      <th>Date Occurred</th>\n",
       "      <th>Time Occurred</th>\n",
       "      <th>Reporting District</th>\n",
       "      <th>Address</th>\n",
       "      <th>Cross Street</th>\n",
       "      <th>Location</th>\n",
       "      <th>MO Codes</th>\n",
       "    </tr>\n",
       "  </thead>\n",
       "  <tbody>\n",
       "    <tr>\n",
       "      <td>0</td>\n",
       "      <td>191519215</td>\n",
       "      <td>10/17/2019</td>\n",
       "      <td>10/17/2019</td>\n",
       "      <td>1520</td>\n",
       "      <td>1526</td>\n",
       "      <td>LANKERSHIM BL</td>\n",
       "      <td>ERWIN ST</td>\n",
       "      <td>(34.1831, -118.3856)</td>\n",
       "      <td>3003 3026 3029 3037 3101 3401 3701 4015</td>\n",
       "    </tr>\n",
       "    <tr>\n",
       "      <td>1</td>\n",
       "      <td>191518670</td>\n",
       "      <td>10/5/2019</td>\n",
       "      <td>10/4/2019</td>\n",
       "      <td>1507</td>\n",
       "      <td>1526</td>\n",
       "      <td>ERWIN ST</td>\n",
       "      <td>LANKERSHIM BL</td>\n",
       "      <td>(34.1831, -118.3878)</td>\n",
       "      <td>4015 3008 3025 3029 3037 3101 3401 3701</td>\n",
       "    </tr>\n",
       "    <tr>\n",
       "      <td>2</td>\n",
       "      <td>191515782</td>\n",
       "      <td>8/17/2019</td>\n",
       "      <td>8/17/2019</td>\n",
       "      <td>1529</td>\n",
       "      <td>1505</td>\n",
       "      <td>TROOST AV</td>\n",
       "      <td>SHERMAN WY</td>\n",
       "      <td>(34.2012, -118.3866)</td>\n",
       "      <td>3034 3006 3037 3028 3602 3101 3401 3701 4026</td>\n",
       "    </tr>\n",
       "    <tr>\n",
       "      <td>3</td>\n",
       "      <td>191515783</td>\n",
       "      <td>8/17/2019</td>\n",
       "      <td>8/17/2019</td>\n",
       "      <td>1530</td>\n",
       "      <td>1505</td>\n",
       "      <td>TROOST AV</td>\n",
       "      <td>SHERMAN WY</td>\n",
       "      <td>(34.2012, -118.3866)</td>\n",
       "      <td>3034 3006 3037 3026 3101 3401 3701 4026</td>\n",
       "    </tr>\n",
       "    <tr>\n",
       "      <td>4</td>\n",
       "      <td>191520926</td>\n",
       "      <td>11/21/2019</td>\n",
       "      <td>11/21/2019</td>\n",
       "      <td>1515</td>\n",
       "      <td>1546</td>\n",
       "      <td>RIVERSIDE DR</td>\n",
       "      <td>BECK AV</td>\n",
       "      <td>(34.1577, -118.3834)</td>\n",
       "      <td>3003 3025 3036 3101 4026</td>\n",
       "    </tr>\n",
       "  </tbody>\n",
       "</table>\n",
       "</div>"
      ],
      "text/plain": [
       "   DR Number Date Reported Date Occurred  Time Occurred  Reporting District  \\\n",
       "0  191519215    10/17/2019    10/17/2019           1520                1526   \n",
       "1  191518670     10/5/2019     10/4/2019           1507                1526   \n",
       "2  191515782     8/17/2019     8/17/2019           1529                1505   \n",
       "3  191515783     8/17/2019     8/17/2019           1530                1505   \n",
       "4  191520926    11/21/2019    11/21/2019           1515                1546   \n",
       "\n",
       "         Address   Cross Street              Location  \\\n",
       "0  LANKERSHIM BL       ERWIN ST  (34.1831, -118.3856)   \n",
       "1       ERWIN ST  LANKERSHIM BL  (34.1831, -118.3878)   \n",
       "2      TROOST AV     SHERMAN WY  (34.2012, -118.3866)   \n",
       "3      TROOST AV     SHERMAN WY  (34.2012, -118.3866)   \n",
       "4   RIVERSIDE DR        BECK AV  (34.1577, -118.3834)   \n",
       "\n",
       "                                       MO Codes  \n",
       "0       3003 3026 3029 3037 3101 3401 3701 4015  \n",
       "1       4015 3008 3025 3029 3037 3101 3401 3701  \n",
       "2  3034 3006 3037 3028 3602 3101 3401 3701 4026  \n",
       "3       3034 3006 3037 3026 3101 3401 3701 4026  \n",
       "4                      3003 3025 3036 3101 4026  "
      ]
     },
     "execution_count": 2,
     "metadata": {},
     "output_type": "execute_result"
    }
   ],
   "source": [
    "# Load the data from the .csv\n",
    "\n",
    "Incidents_df = pd.read_csv(incidents_filename, sep=\",\")\n",
    "Incidents_df.head()"
   ]
  },
  {
   "cell_type": "code",
   "execution_count": null,
   "metadata": {},
   "outputs": [],
   "source": [
    "# Check to see if any additional data cleaning is needed."
   ]
  },
  {
   "cell_type": "code",
   "execution_count": 3,
   "metadata": {},
   "outputs": [
    {
     "data": {
      "text/plain": [
       "DR Number              int64\n",
       "Date Reported         object\n",
       "Date Occurred         object\n",
       "Time Occurred          int64\n",
       "Reporting District     int64\n",
       "Address               object\n",
       "Cross Street          object\n",
       "Location              object\n",
       "MO Codes              object\n",
       "dtype: object"
      ]
     },
     "execution_count": 3,
     "metadata": {},
     "output_type": "execute_result"
    }
   ],
   "source": [
    "Incidents_df.dtypes"
   ]
  },
  {
   "cell_type": "code",
   "execution_count": 4,
   "metadata": {},
   "outputs": [
    {
     "name": "stdout",
     "output_type": "stream",
     "text": [
      "<class 'pandas.core.frame.DataFrame'>\n",
      "RangeIndex: 13078 entries, 0 to 13077\n",
      "Data columns (total 9 columns):\n",
      "DR Number             13078 non-null int64\n",
      "Date Reported         13078 non-null object\n",
      "Date Occurred         13078 non-null object\n",
      "Time Occurred         13078 non-null int64\n",
      "Reporting District    13078 non-null int64\n",
      "Address               13078 non-null object\n",
      "Cross Street          12759 non-null object\n",
      "Location              13078 non-null object\n",
      "MO Codes              12900 non-null object\n",
      "dtypes: int64(3), object(6)\n",
      "memory usage: 919.7+ KB\n"
     ]
    }
   ],
   "source": [
    "Incidents_df.info()"
   ]
  },
  {
   "cell_type": "code",
   "execution_count": 5,
   "metadata": {},
   "outputs": [
    {
     "data": {
      "text/plain": [
       "RangeIndex(start=0, stop=13078, step=1)"
      ]
     },
     "execution_count": 5,
     "metadata": {},
     "output_type": "execute_result"
    }
   ],
   "source": [
    "Incidents_df.index"
   ]
  },
  {
   "cell_type": "code",
   "execution_count": 6,
   "metadata": {},
   "outputs": [
    {
     "data": {
      "text/plain": [
       "Index(['DR Number', 'Date Reported', 'Date Occurred', 'Time Occurred',\n",
       "       'Reporting District', 'Address', 'Cross Street', 'Location',\n",
       "       'MO Codes'],\n",
       "      dtype='object')"
      ]
     },
     "execution_count": 6,
     "metadata": {},
     "output_type": "execute_result"
    }
   ],
   "source": [
    "Incidents_df.columns"
   ]
  },
  {
   "cell_type": "code",
   "execution_count": 7,
   "metadata": {},
   "outputs": [
    {
     "data": {
      "text/plain": [
       "0        False\n",
       "1        False\n",
       "2        False\n",
       "3        False\n",
       "4        False\n",
       "         ...  \n",
       "13073    False\n",
       "13074    False\n",
       "13075    False\n",
       "13076    False\n",
       "13077    False\n",
       "Length: 13078, dtype: bool"
      ]
     },
     "execution_count": 7,
     "metadata": {},
     "output_type": "execute_result"
    }
   ],
   "source": [
    "Incidents_df.duplicated('DR Number')"
   ]
  },
  {
   "cell_type": "code",
   "execution_count": 8,
   "metadata": {},
   "outputs": [],
   "source": [
    "# The above shows no duplicate DR numbers, which is good."
   ]
  },
  {
   "cell_type": "code",
   "execution_count": 9,
   "metadata": {},
   "outputs": [
    {
     "data": {
      "text/plain": [
       "True     11338\n",
       "False     1740\n",
       "dtype: int64"
      ]
     },
     "execution_count": 9,
     "metadata": {},
     "output_type": "execute_result"
    }
   ],
   "source": [
    "Incidents_df.duplicated('Location').value_counts()"
   ]
  },
  {
   "cell_type": "code",
   "execution_count": 10,
   "metadata": {},
   "outputs": [
    {
     "data": {
      "text/plain": [
       "1740"
      ]
     },
     "execution_count": 10,
     "metadata": {},
     "output_type": "execute_result"
    }
   ],
   "source": [
    "# The above shows a lot of non-unique accident locations. Let's see how many locations there are.\n",
    "\n",
    "Incidents_df.Location.nunique()\n"
   ]
  },
  {
   "cell_type": "code",
   "execution_count": 11,
   "metadata": {},
   "outputs": [
    {
     "name": "stdout",
     "output_type": "stream",
     "text": [
      "(34.1831, -118.3856)\n",
      "(34.1831\n",
      " -118.3856)\n"
     ]
    }
   ],
   "source": [
    "# The locations field is a string. We need to take it apart and turn it into a long and lat.\n",
    "# ( long, Lat )\n",
    "print(Incidents_df.Location[0])\n",
    "Raw_Lat, Raw_Lon = Incidents_df.Location[0].split(',')\n",
    "print(Raw_Lat)\n",
    "print(Raw_Lon)"
   ]
  },
  {
   "cell_type": "code",
   "execution_count": 12,
   "metadata": {},
   "outputs": [
    {
     "name": "stdout",
     "output_type": "stream",
     "text": [
      "34.1831\n",
      " -118.3856\n"
     ]
    }
   ],
   "source": [
    "# okay, we've split it in two. Now lets get rid of the parens\n",
    "Lat = Raw_Lat[1:]\n",
    "print(Lat)\n",
    "Lon = Raw_Lon[:-1]\n",
    "print(Lon)"
   ]
  },
  {
   "cell_type": "code",
   "execution_count": 13,
   "metadata": {},
   "outputs": [
    {
     "data": {
      "text/plain": [
       "-118.3856"
      ]
     },
     "execution_count": 13,
     "metadata": {},
     "output_type": "execute_result"
    }
   ],
   "source": [
    "float(Lon)"
   ]
  },
  {
   "cell_type": "code",
   "execution_count": 14,
   "metadata": {},
   "outputs": [
    {
     "name": "stderr",
     "output_type": "stream",
     "text": [
      "C:\\Users\\Steph\\Anaconda3\\lib\\site-packages\\ipykernel_launcher.py:12: SettingWithCopyWarning: \n",
      "A value is trying to be set on a copy of a slice from a DataFrame\n",
      "\n",
      "See the caveats in the documentation: http://pandas.pydata.org/pandas-docs/stable/user_guide/indexing.html#returning-a-view-versus-a-copy\n",
      "  if sys.path[0] == '':\n",
      "C:\\Users\\Steph\\Anaconda3\\lib\\site-packages\\ipykernel_launcher.py:13: SettingWithCopyWarning: \n",
      "A value is trying to be set on a copy of a slice from a DataFrame\n",
      "\n",
      "See the caveats in the documentation: http://pandas.pydata.org/pandas-docs/stable/user_guide/indexing.html#returning-a-view-versus-a-copy\n",
      "  del sys.path[0]\n"
     ]
    },
    {
     "data": {
      "text/html": [
       "<div>\n",
       "<style scoped>\n",
       "    .dataframe tbody tr th:only-of-type {\n",
       "        vertical-align: middle;\n",
       "    }\n",
       "\n",
       "    .dataframe tbody tr th {\n",
       "        vertical-align: top;\n",
       "    }\n",
       "\n",
       "    .dataframe thead th {\n",
       "        text-align: right;\n",
       "    }\n",
       "</style>\n",
       "<table border=\"1\" class=\"dataframe\">\n",
       "  <thead>\n",
       "    <tr style=\"text-align: right;\">\n",
       "      <th></th>\n",
       "      <th>DR Number</th>\n",
       "      <th>Date Reported</th>\n",
       "      <th>Date Occurred</th>\n",
       "      <th>Time Occurred</th>\n",
       "      <th>Reporting District</th>\n",
       "      <th>Address</th>\n",
       "      <th>Cross Street</th>\n",
       "      <th>Location</th>\n",
       "      <th>MO Codes</th>\n",
       "      <th>Lat</th>\n",
       "      <th>Lon</th>\n",
       "    </tr>\n",
       "  </thead>\n",
       "  <tbody>\n",
       "    <tr>\n",
       "      <td>0</td>\n",
       "      <td>191519215</td>\n",
       "      <td>10/17/2019</td>\n",
       "      <td>10/17/2019</td>\n",
       "      <td>1520</td>\n",
       "      <td>1526</td>\n",
       "      <td>LANKERSHIM BL</td>\n",
       "      <td>ERWIN ST</td>\n",
       "      <td>(34.1831, -118.3856)</td>\n",
       "      <td>3003 3026 3029 3037 3101 3401 3701 4015</td>\n",
       "      <td>34.1831</td>\n",
       "      <td>-118.3856</td>\n",
       "    </tr>\n",
       "    <tr>\n",
       "      <td>1</td>\n",
       "      <td>191518670</td>\n",
       "      <td>10/5/2019</td>\n",
       "      <td>10/4/2019</td>\n",
       "      <td>1507</td>\n",
       "      <td>1526</td>\n",
       "      <td>ERWIN ST</td>\n",
       "      <td>LANKERSHIM BL</td>\n",
       "      <td>(34.1831, -118.3878)</td>\n",
       "      <td>4015 3008 3025 3029 3037 3101 3401 3701</td>\n",
       "      <td>34.1831</td>\n",
       "      <td>-118.3878</td>\n",
       "    </tr>\n",
       "    <tr>\n",
       "      <td>2</td>\n",
       "      <td>191515782</td>\n",
       "      <td>8/17/2019</td>\n",
       "      <td>8/17/2019</td>\n",
       "      <td>1529</td>\n",
       "      <td>1505</td>\n",
       "      <td>TROOST AV</td>\n",
       "      <td>SHERMAN WY</td>\n",
       "      <td>(34.2012, -118.3866)</td>\n",
       "      <td>3034 3006 3037 3028 3602 3101 3401 3701 4026</td>\n",
       "      <td>34.2012</td>\n",
       "      <td>-118.3866</td>\n",
       "    </tr>\n",
       "    <tr>\n",
       "      <td>3</td>\n",
       "      <td>191515783</td>\n",
       "      <td>8/17/2019</td>\n",
       "      <td>8/17/2019</td>\n",
       "      <td>1530</td>\n",
       "      <td>1505</td>\n",
       "      <td>TROOST AV</td>\n",
       "      <td>SHERMAN WY</td>\n",
       "      <td>(34.2012, -118.3866)</td>\n",
       "      <td>3034 3006 3037 3026 3101 3401 3701 4026</td>\n",
       "      <td>34.2012</td>\n",
       "      <td>-118.3866</td>\n",
       "    </tr>\n",
       "    <tr>\n",
       "      <td>4</td>\n",
       "      <td>191520926</td>\n",
       "      <td>11/21/2019</td>\n",
       "      <td>11/21/2019</td>\n",
       "      <td>1515</td>\n",
       "      <td>1546</td>\n",
       "      <td>RIVERSIDE DR</td>\n",
       "      <td>BECK AV</td>\n",
       "      <td>(34.1577, -118.3834)</td>\n",
       "      <td>3003 3025 3036 3101 4026</td>\n",
       "      <td>34.1577</td>\n",
       "      <td>-118.3834</td>\n",
       "    </tr>\n",
       "  </tbody>\n",
       "</table>\n",
       "</div>"
      ],
      "text/plain": [
       "   DR Number Date Reported Date Occurred  Time Occurred  Reporting District  \\\n",
       "0  191519215    10/17/2019    10/17/2019           1520                1526   \n",
       "1  191518670     10/5/2019     10/4/2019           1507                1526   \n",
       "2  191515782     8/17/2019     8/17/2019           1529                1505   \n",
       "3  191515783     8/17/2019     8/17/2019           1530                1505   \n",
       "4  191520926    11/21/2019    11/21/2019           1515                1546   \n",
       "\n",
       "         Address   Cross Street              Location  \\\n",
       "0  LANKERSHIM BL       ERWIN ST  (34.1831, -118.3856)   \n",
       "1       ERWIN ST  LANKERSHIM BL  (34.1831, -118.3878)   \n",
       "2      TROOST AV     SHERMAN WY  (34.2012, -118.3866)   \n",
       "3      TROOST AV     SHERMAN WY  (34.2012, -118.3866)   \n",
       "4   RIVERSIDE DR        BECK AV  (34.1577, -118.3834)   \n",
       "\n",
       "                                       MO Codes      Lat       Lon  \n",
       "0       3003 3026 3029 3037 3101 3401 3701 4015  34.1831 -118.3856  \n",
       "1       4015 3008 3025 3029 3037 3101 3401 3701  34.1831 -118.3878  \n",
       "2  3034 3006 3037 3028 3602 3101 3401 3701 4026  34.2012 -118.3866  \n",
       "3       3034 3006 3037 3026 3101 3401 3701 4026  34.2012 -118.3866  \n",
       "4                      3003 3025 3036 3101 4026  34.1577 -118.3834  "
      ]
     },
     "execution_count": 14,
     "metadata": {},
     "output_type": "execute_result"
    }
   ],
   "source": [
    "# Let's add 2 new columns of map coordinates\n",
    "\n",
    "Incidents_df['Lat'] = 1.1\n",
    "Incidents_df['Lon'] = 1.1\n",
    "\n",
    "# And fill them in\n",
    "\n",
    "for x in range(len(Incidents_df)):\n",
    "    Raw_Lat, Raw_Lon = Incidents_df.Location[x].split(',')\n",
    "    Lat = Raw_Lat[1:]\n",
    "    Lon = Raw_Lon[:-1]\n",
    "    Incidents_df['Lat'][x] = float(Lat)\n",
    "    Incidents_df['Lon'][x] = float(Lon)\n",
    "\n",
    "Incidents_df.head()"
   ]
  },
  {
   "cell_type": "code",
   "execution_count": 15,
   "metadata": {},
   "outputs": [
    {
     "data": {
      "text/plain": [
       "DR Number               int64\n",
       "Date Reported          object\n",
       "Date Occurred          object\n",
       "Time Occurred           int64\n",
       "Reporting District      int64\n",
       "Address                object\n",
       "Cross Street           object\n",
       "Location               object\n",
       "MO Codes               object\n",
       "Lat                   float64\n",
       "Lon                   float64\n",
       "dtype: object"
      ]
     },
     "execution_count": 15,
     "metadata": {},
     "output_type": "execute_result"
    }
   ],
   "source": [
    "# hmm. Lat and lon are being stored as intergers??\n",
    "Incidents_df.dtypes"
   ]
  },
  {
   "cell_type": "code",
   "execution_count": null,
   "metadata": {},
   "outputs": [],
   "source": [
    "# okay. Let's map this!\n",
    "\n",
    "# SKIP!\n",
    "\n",
    "#locations = Incidents_df[[\"Lat\",\"Lon\"]]\n",
    "\n",
    "#fig = gmaps.figure()\n",
    "#fig.add_layer(gmaps.marker_layer(locations))\n",
    "\n",
    "#fig"
   ]
  },
  {
   "cell_type": "code",
   "execution_count": 16,
   "metadata": {},
   "outputs": [
    {
     "data": {
      "text/html": [
       "<div>\n",
       "<style scoped>\n",
       "    .dataframe tbody tr th:only-of-type {\n",
       "        vertical-align: middle;\n",
       "    }\n",
       "\n",
       "    .dataframe tbody tr th {\n",
       "        vertical-align: top;\n",
       "    }\n",
       "\n",
       "    .dataframe thead th {\n",
       "        text-align: right;\n",
       "    }\n",
       "</style>\n",
       "<table border=\"1\" class=\"dataframe\">\n",
       "  <thead>\n",
       "    <tr style=\"text-align: right;\">\n",
       "      <th></th>\n",
       "      <th>DR Number</th>\n",
       "      <th>Date Reported</th>\n",
       "      <th>Date Occurred</th>\n",
       "      <th>Time Occurred</th>\n",
       "      <th>Reporting District</th>\n",
       "      <th>Address</th>\n",
       "      <th>Cross Street</th>\n",
       "      <th>Location</th>\n",
       "      <th>MO Codes</th>\n",
       "      <th>Lat</th>\n",
       "      <th>Lon</th>\n",
       "    </tr>\n",
       "  </thead>\n",
       "  <tbody>\n",
       "    <tr>\n",
       "      <td>10099</td>\n",
       "      <td>191519526</td>\n",
       "      <td>10/26/2019</td>\n",
       "      <td>10/26/2019</td>\n",
       "      <td>1310</td>\n",
       "      <td>1554</td>\n",
       "      <td>CULVER BL</td>\n",
       "      <td>MARINA</td>\n",
       "      <td>(33.9821, -118.4281)</td>\n",
       "      <td>NaN</td>\n",
       "      <td>33.9821</td>\n",
       "      <td>-118.4281</td>\n",
       "    </tr>\n",
       "    <tr>\n",
       "      <td>10410</td>\n",
       "      <td>181509635</td>\n",
       "      <td>4/17/2018</td>\n",
       "      <td>4/14/2018</td>\n",
       "      <td>1135</td>\n",
       "      <td>1552</td>\n",
       "      <td>PACIFIC</td>\n",
       "      <td>CATAMARAN</td>\n",
       "      <td>(33.9783, -118.464)</td>\n",
       "      <td>NaN</td>\n",
       "      <td>33.9783</td>\n",
       "      <td>-118.4640</td>\n",
       "    </tr>\n",
       "  </tbody>\n",
       "</table>\n",
       "</div>"
      ],
      "text/plain": [
       "       DR Number Date Reported Date Occurred  Time Occurred  \\\n",
       "10099  191519526    10/26/2019    10/26/2019           1310   \n",
       "10410  181509635     4/17/2018     4/14/2018           1135   \n",
       "\n",
       "       Reporting District    Address Cross Street              Location  \\\n",
       "10099                1554  CULVER BL       MARINA  (33.9821, -118.4281)   \n",
       "10410                1552    PACIFIC    CATAMARAN   (33.9783, -118.464)   \n",
       "\n",
       "      MO Codes      Lat       Lon  \n",
       "10099      NaN  33.9821 -118.4281  \n",
       "10410      NaN  33.9783 -118.4640  "
      ]
     },
     "execution_count": 16,
     "metadata": {},
     "output_type": "execute_result"
    }
   ],
   "source": [
    "# huh. We got incidents south to LAX? That's not NoHo.\n",
    "\n",
    "# Hollywood (not North Hollywood) is 34.101667, -118.326667, so let's find the ones with a \n",
    "# lat < 34.101667.\n",
    "\n",
    "OutOfArea_df = Incidents_df.loc[Incidents_df.Lat < 34.101667]\n",
    "OutOfArea_df"
   ]
  },
  {
   "cell_type": "code",
   "execution_count": 17,
   "metadata": {},
   "outputs": [
    {
     "data": {
      "text/html": [
       "<div>\n",
       "<style scoped>\n",
       "    .dataframe tbody tr th:only-of-type {\n",
       "        vertical-align: middle;\n",
       "    }\n",
       "\n",
       "    .dataframe tbody tr th {\n",
       "        vertical-align: top;\n",
       "    }\n",
       "\n",
       "    .dataframe thead th {\n",
       "        text-align: right;\n",
       "    }\n",
       "</style>\n",
       "<table border=\"1\" class=\"dataframe\">\n",
       "  <thead>\n",
       "    <tr style=\"text-align: right;\">\n",
       "      <th></th>\n",
       "      <th>DR Number</th>\n",
       "      <th>Date Reported</th>\n",
       "      <th>Date Occurred</th>\n",
       "      <th>Time Occurred</th>\n",
       "      <th>Reporting District</th>\n",
       "      <th>Address</th>\n",
       "      <th>Cross Street</th>\n",
       "      <th>Location</th>\n",
       "      <th>MO Codes</th>\n",
       "      <th>Lat</th>\n",
       "      <th>Lon</th>\n",
       "    </tr>\n",
       "  </thead>\n",
       "  <tbody>\n",
       "    <tr>\n",
       "      <td>0</td>\n",
       "      <td>191519215</td>\n",
       "      <td>10/17/2019</td>\n",
       "      <td>10/17/2019</td>\n",
       "      <td>1520</td>\n",
       "      <td>1526</td>\n",
       "      <td>LANKERSHIM BL</td>\n",
       "      <td>ERWIN ST</td>\n",
       "      <td>(34.1831, -118.3856)</td>\n",
       "      <td>3003 3026 3029 3037 3101 3401 3701 4015</td>\n",
       "      <td>34.1831</td>\n",
       "      <td>-118.3856</td>\n",
       "    </tr>\n",
       "    <tr>\n",
       "      <td>1</td>\n",
       "      <td>191518670</td>\n",
       "      <td>10/5/2019</td>\n",
       "      <td>10/4/2019</td>\n",
       "      <td>1507</td>\n",
       "      <td>1526</td>\n",
       "      <td>ERWIN ST</td>\n",
       "      <td>LANKERSHIM BL</td>\n",
       "      <td>(34.1831, -118.3878)</td>\n",
       "      <td>4015 3008 3025 3029 3037 3101 3401 3701</td>\n",
       "      <td>34.1831</td>\n",
       "      <td>-118.3878</td>\n",
       "    </tr>\n",
       "    <tr>\n",
       "      <td>2</td>\n",
       "      <td>191515782</td>\n",
       "      <td>8/17/2019</td>\n",
       "      <td>8/17/2019</td>\n",
       "      <td>1529</td>\n",
       "      <td>1505</td>\n",
       "      <td>TROOST AV</td>\n",
       "      <td>SHERMAN WY</td>\n",
       "      <td>(34.2012, -118.3866)</td>\n",
       "      <td>3034 3006 3037 3028 3602 3101 3401 3701 4026</td>\n",
       "      <td>34.2012</td>\n",
       "      <td>-118.3866</td>\n",
       "    </tr>\n",
       "    <tr>\n",
       "      <td>3</td>\n",
       "      <td>191515783</td>\n",
       "      <td>8/17/2019</td>\n",
       "      <td>8/17/2019</td>\n",
       "      <td>1530</td>\n",
       "      <td>1505</td>\n",
       "      <td>TROOST AV</td>\n",
       "      <td>SHERMAN WY</td>\n",
       "      <td>(34.2012, -118.3866)</td>\n",
       "      <td>3034 3006 3037 3026 3101 3401 3701 4026</td>\n",
       "      <td>34.2012</td>\n",
       "      <td>-118.3866</td>\n",
       "    </tr>\n",
       "    <tr>\n",
       "      <td>4</td>\n",
       "      <td>191520926</td>\n",
       "      <td>11/21/2019</td>\n",
       "      <td>11/21/2019</td>\n",
       "      <td>1515</td>\n",
       "      <td>1546</td>\n",
       "      <td>RIVERSIDE DR</td>\n",
       "      <td>BECK AV</td>\n",
       "      <td>(34.1577, -118.3834)</td>\n",
       "      <td>3003 3025 3036 3101 4026</td>\n",
       "      <td>34.1577</td>\n",
       "      <td>-118.3834</td>\n",
       "    </tr>\n",
       "  </tbody>\n",
       "</table>\n",
       "</div>"
      ],
      "text/plain": [
       "   DR Number Date Reported Date Occurred  Time Occurred  Reporting District  \\\n",
       "0  191519215    10/17/2019    10/17/2019           1520                1526   \n",
       "1  191518670     10/5/2019     10/4/2019           1507                1526   \n",
       "2  191515782     8/17/2019     8/17/2019           1529                1505   \n",
       "3  191515783     8/17/2019     8/17/2019           1530                1505   \n",
       "4  191520926    11/21/2019    11/21/2019           1515                1546   \n",
       "\n",
       "         Address   Cross Street              Location  \\\n",
       "0  LANKERSHIM BL       ERWIN ST  (34.1831, -118.3856)   \n",
       "1       ERWIN ST  LANKERSHIM BL  (34.1831, -118.3878)   \n",
       "2      TROOST AV     SHERMAN WY  (34.2012, -118.3866)   \n",
       "3      TROOST AV     SHERMAN WY  (34.2012, -118.3866)   \n",
       "4   RIVERSIDE DR        BECK AV  (34.1577, -118.3834)   \n",
       "\n",
       "                                       MO Codes      Lat       Lon  \n",
       "0       3003 3026 3029 3037 3101 3401 3701 4015  34.1831 -118.3856  \n",
       "1       4015 3008 3025 3029 3037 3101 3401 3701  34.1831 -118.3878  \n",
       "2  3034 3006 3037 3028 3602 3101 3401 3701 4026  34.2012 -118.3866  \n",
       "3       3034 3006 3037 3026 3101 3401 3701 4026  34.2012 -118.3866  \n",
       "4                      3003 3025 3036 3101 4026  34.1577 -118.3834  "
      ]
     },
     "execution_count": 17,
     "metadata": {},
     "output_type": "execute_result"
    }
   ],
   "source": [
    "# And now let's get rid of them.\n",
    "\n",
    "Cleaned_df = Incidents_df.loc[Incidents_df.Lat >= 34.101667]\n",
    "Cleaned_df.head()"
   ]
  },
  {
   "cell_type": "code",
   "execution_count": null,
   "metadata": {},
   "outputs": [],
   "source": [
    "# let's map again.\n",
    "\n",
    "# SKIP!\n",
    "\n",
    "#locations = Cleaned_df[[\"Lat\",\"Lon\"]]\n",
    "\n",
    "#fig = gmaps.figure()\n",
    "#fig.add_layer(gmaps.marker_layer(locations))\n",
    "\n",
    "#fig"
   ]
  },
  {
   "cell_type": "code",
   "execution_count": 18,
   "metadata": {},
   "outputs": [
    {
     "name": "stdout",
     "output_type": "stream",
     "text": [
      "<class 'pandas.core.frame.DataFrame'>\n",
      "Int64Index: 13076 entries, 0 to 13077\n",
      "Data columns (total 11 columns):\n",
      "DR Number             13076 non-null int64\n",
      "Date Reported         13076 non-null object\n",
      "Date Occurred         13076 non-null datetime64[ns]\n",
      "Time Occurred         13076 non-null int64\n",
      "Reporting District    13076 non-null int64\n",
      "Address               13076 non-null object\n",
      "Cross Street          12757 non-null object\n",
      "Location              13076 non-null object\n",
      "MO Codes              12900 non-null object\n",
      "Lat                   13076 non-null float64\n",
      "Lon                   13076 non-null float64\n",
      "dtypes: datetime64[ns](1), float64(2), int64(3), object(5)\n",
      "memory usage: 1.2+ MB\n"
     ]
    },
    {
     "name": "stderr",
     "output_type": "stream",
     "text": [
      "C:\\Users\\Steph\\Anaconda3\\lib\\site-packages\\ipykernel_launcher.py:5: SettingWithCopyWarning: \n",
      "A value is trying to be set on a copy of a slice from a DataFrame.\n",
      "Try using .loc[row_indexer,col_indexer] = value instead\n",
      "\n",
      "See the caveats in the documentation: http://pandas.pydata.org/pandas-docs/stable/user_guide/indexing.html#returning-a-view-versus-a-copy\n",
      "  \"\"\"\n"
     ]
    }
   ],
   "source": [
    "# that's a sea of red. Let's pare this down to just 2019.\n",
    "\n",
    "# so we need to convert the 'Date Occured' field to a datetime format.\n",
    "\n",
    "Cleaned_df['Date Occurred']=pd.to_datetime(Cleaned_df['Date Occurred'])\n",
    "Cleaned_df.info()"
   ]
  },
  {
   "cell_type": "code",
   "execution_count": 19,
   "metadata": {},
   "outputs": [
    {
     "data": {
      "text/plain": [
       "Timestamp('2019-10-17 00:00:00')"
      ]
     },
     "execution_count": 19,
     "metadata": {},
     "output_type": "execute_result"
    }
   ],
   "source": [
    "Cleaned_df['Date Occurred'][0]"
   ]
  },
  {
   "cell_type": "code",
   "execution_count": 20,
   "metadata": {},
   "outputs": [],
   "source": [
    "# set the date values we want investigate.\n",
    "\n",
    "January_1_2015 = datetime.datetime(2015, 1, 1)\n",
    "January_1_2019 = datetime.datetime(2019, 1, 1)\n",
    "February_1_2019 = datetime.datetime(2019, 2, 1)\n",
    "\n",
    "April_1_2019 = datetime.datetime(2019, 4, 1)\n",
    "\n",
    "Spring_Forward_Monday = datetime.datetime(2020, 3, 11)\n",
    "Day_After_Spring_Forward_Monday = datetime.datetime(2020, 3, 12)\n",
    "Day_Before_Thanksgiving = datetime.datetime(2019, 11, 27)\n",
    "Thanksgiving = datetime.datetime(2019, 11, 28)\n",
    "Black_Friday = datetime.datetime(2019, 11, 29)\n",
    "Saturday_After_Thanksgiving = datetime.datetime(2019, 11, 30)\n",
    "\n",
    "January_1_2020 = datetime.datetime(2020, 1, 1)\n",
    "#print(January_1_2020)"
   ]
  },
  {
   "cell_type": "code",
   "execution_count": 21,
   "metadata": {},
   "outputs": [
    {
     "data": {
      "text/plain": [
       "13076"
      ]
     },
     "execution_count": 21,
     "metadata": {},
     "output_type": "execute_result"
    }
   ],
   "source": [
    "# This is just the month of January 2019\n",
    "\n",
    "Cleaned_5Year_df = Cleaned_df.loc[(Cleaned_df['Date Occurred']>=January_1_2015)\\\n",
    "               & (Cleaned_df['Date Occurred']<January_1_2020)]\n",
    "Cleaned_5Year_df['DR Number'].count()"
   ]
  },
  {
   "cell_type": "code",
   "execution_count": 22,
   "metadata": {},
   "outputs": [],
   "source": [
    "info_box_template = \"\"\"\n",
    "<dl>\n",
    "<dt>DR Number</dt><dd>{DR Number}</dd>\n",
    "<dt>Date Occured</dt><dd>{Date Occurred}</dd>\n",
    "</dl>\n",
    "\"\"\"\n",
    "incident_info = [info_box_template.format(**row) for index, row in Cleaned_5Year_df.iterrows()]\n",
    "locations = Cleaned_5Year_df[[\"Lat\",\"Lon\"]]"
   ]
  },
  {
   "cell_type": "code",
   "execution_count": null,
   "metadata": {},
   "outputs": [],
   "source": [
    "# Map again\n",
    "\n",
    "# SKIP!\n",
    "\n",
    "#fig = gmaps.figure()\n",
    "#fig.add_layer(gmaps.symbol_layer(locations, info_box_content=incident_info, fill_color='blue',scale=1))\n",
    "\n",
    "#fig"
   ]
  },
  {
   "cell_type": "code",
   "execution_count": 23,
   "metadata": {},
   "outputs": [
    {
     "data": {
      "text/plain": [
       "1738"
      ]
     },
     "execution_count": 23,
     "metadata": {},
     "output_type": "execute_result"
    }
   ],
   "source": [
    "# To create a heatmap, we'd want to find the unique number of incident locations.\n",
    "Cleaned_5Year_df.Location.nunique()"
   ]
  },
  {
   "cell_type": "code",
   "execution_count": 24,
   "metadata": {},
   "outputs": [
    {
     "data": {
      "text/html": [
       "<div>\n",
       "<style scoped>\n",
       "    .dataframe tbody tr th:only-of-type {\n",
       "        vertical-align: middle;\n",
       "    }\n",
       "\n",
       "    .dataframe tbody tr th {\n",
       "        vertical-align: top;\n",
       "    }\n",
       "\n",
       "    .dataframe thead th {\n",
       "        text-align: right;\n",
       "    }\n",
       "</style>\n",
       "<table border=\"1\" class=\"dataframe\">\n",
       "  <thead>\n",
       "    <tr style=\"text-align: right;\">\n",
       "      <th></th>\n",
       "      <th>DR Number</th>\n",
       "      <th>Date Reported</th>\n",
       "      <th>Date Occurred</th>\n",
       "      <th>Time Occurred</th>\n",
       "      <th>Reporting District</th>\n",
       "      <th>Address</th>\n",
       "      <th>Cross Street</th>\n",
       "      <th>Location</th>\n",
       "      <th>MO Codes</th>\n",
       "      <th>Lat</th>\n",
       "      <th>Lon</th>\n",
       "    </tr>\n",
       "  </thead>\n",
       "  <tbody>\n",
       "    <tr>\n",
       "      <td>0</td>\n",
       "      <td>191519215</td>\n",
       "      <td>10/17/2019</td>\n",
       "      <td>2019-10-17</td>\n",
       "      <td>1520</td>\n",
       "      <td>1526</td>\n",
       "      <td>LANKERSHIM BL</td>\n",
       "      <td>ERWIN ST</td>\n",
       "      <td>(34.1831, -118.3856)</td>\n",
       "      <td>3003 3026 3029 3037 3101 3401 3701 4015</td>\n",
       "      <td>34.1831</td>\n",
       "      <td>-118.3856</td>\n",
       "    </tr>\n",
       "    <tr>\n",
       "      <td>1</td>\n",
       "      <td>191518670</td>\n",
       "      <td>10/5/2019</td>\n",
       "      <td>2019-10-04</td>\n",
       "      <td>1507</td>\n",
       "      <td>1526</td>\n",
       "      <td>ERWIN ST</td>\n",
       "      <td>LANKERSHIM BL</td>\n",
       "      <td>(34.1831, -118.3878)</td>\n",
       "      <td>4015 3008 3025 3029 3037 3101 3401 3701</td>\n",
       "      <td>34.1831</td>\n",
       "      <td>-118.3878</td>\n",
       "    </tr>\n",
       "    <tr>\n",
       "      <td>2</td>\n",
       "      <td>191515782</td>\n",
       "      <td>8/17/2019</td>\n",
       "      <td>2019-08-17</td>\n",
       "      <td>1529</td>\n",
       "      <td>1505</td>\n",
       "      <td>TROOST AV</td>\n",
       "      <td>SHERMAN WY</td>\n",
       "      <td>(34.2012, -118.3866)</td>\n",
       "      <td>3034 3006 3037 3028 3602 3101 3401 3701 4026</td>\n",
       "      <td>34.2012</td>\n",
       "      <td>-118.3866</td>\n",
       "    </tr>\n",
       "    <tr>\n",
       "      <td>3</td>\n",
       "      <td>191515783</td>\n",
       "      <td>8/17/2019</td>\n",
       "      <td>2019-08-17</td>\n",
       "      <td>1530</td>\n",
       "      <td>1505</td>\n",
       "      <td>TROOST AV</td>\n",
       "      <td>SHERMAN WY</td>\n",
       "      <td>(34.2012, -118.3866)</td>\n",
       "      <td>3034 3006 3037 3026 3101 3401 3701 4026</td>\n",
       "      <td>34.2012</td>\n",
       "      <td>-118.3866</td>\n",
       "    </tr>\n",
       "    <tr>\n",
       "      <td>4</td>\n",
       "      <td>191520926</td>\n",
       "      <td>11/21/2019</td>\n",
       "      <td>2019-11-21</td>\n",
       "      <td>1515</td>\n",
       "      <td>1546</td>\n",
       "      <td>RIVERSIDE DR</td>\n",
       "      <td>BECK AV</td>\n",
       "      <td>(34.1577, -118.3834)</td>\n",
       "      <td>3003 3025 3036 3101 4026</td>\n",
       "      <td>34.1577</td>\n",
       "      <td>-118.3834</td>\n",
       "    </tr>\n",
       "  </tbody>\n",
       "</table>\n",
       "</div>"
      ],
      "text/plain": [
       "   DR Number Date Reported Date Occurred  Time Occurred  Reporting District  \\\n",
       "0  191519215    10/17/2019    2019-10-17           1520                1526   \n",
       "1  191518670     10/5/2019    2019-10-04           1507                1526   \n",
       "2  191515782     8/17/2019    2019-08-17           1529                1505   \n",
       "3  191515783     8/17/2019    2019-08-17           1530                1505   \n",
       "4  191520926    11/21/2019    2019-11-21           1515                1546   \n",
       "\n",
       "         Address   Cross Street              Location  \\\n",
       "0  LANKERSHIM BL       ERWIN ST  (34.1831, -118.3856)   \n",
       "1       ERWIN ST  LANKERSHIM BL  (34.1831, -118.3878)   \n",
       "2      TROOST AV     SHERMAN WY  (34.2012, -118.3866)   \n",
       "3      TROOST AV     SHERMAN WY  (34.2012, -118.3866)   \n",
       "4   RIVERSIDE DR        BECK AV  (34.1577, -118.3834)   \n",
       "\n",
       "                                       MO Codes      Lat       Lon  \n",
       "0       3003 3026 3029 3037 3101 3401 3701 4015  34.1831 -118.3856  \n",
       "1       4015 3008 3025 3029 3037 3101 3401 3701  34.1831 -118.3878  \n",
       "2  3034 3006 3037 3028 3602 3101 3401 3701 4026  34.2012 -118.3866  \n",
       "3       3034 3006 3037 3026 3101 3401 3701 4026  34.2012 -118.3866  \n",
       "4                      3003 3025 3036 3101 4026  34.1577 -118.3834  "
      ]
     },
     "execution_count": 24,
     "metadata": {},
     "output_type": "execute_result"
    }
   ],
   "source": [
    "# Let's reindex this thing.\n",
    "\n",
    "Cleaned_5Year_df.index=range(len(Cleaned_5Year_df))\n",
    "Cleaned_5Year_df.head()"
   ]
  },
  {
   "cell_type": "code",
   "execution_count": 25,
   "metadata": {},
   "outputs": [
    {
     "data": {
      "text/html": [
       "<div>\n",
       "<style scoped>\n",
       "    .dataframe tbody tr th:only-of-type {\n",
       "        vertical-align: middle;\n",
       "    }\n",
       "\n",
       "    .dataframe tbody tr th {\n",
       "        vertical-align: top;\n",
       "    }\n",
       "\n",
       "    .dataframe thead th {\n",
       "        text-align: right;\n",
       "    }\n",
       "</style>\n",
       "<table border=\"1\" class=\"dataframe\">\n",
       "  <thead>\n",
       "    <tr style=\"text-align: right;\">\n",
       "      <th></th>\n",
       "      <th>Location</th>\n",
       "    </tr>\n",
       "  </thead>\n",
       "  <tbody>\n",
       "    <tr>\n",
       "      <td>0</td>\n",
       "      <td>(34.1831, -118.3856)</td>\n",
       "    </tr>\n",
       "    <tr>\n",
       "      <td>1</td>\n",
       "      <td>(34.1831, -118.3878)</td>\n",
       "    </tr>\n",
       "    <tr>\n",
       "      <td>2</td>\n",
       "      <td>(34.2012, -118.3866)</td>\n",
       "    </tr>\n",
       "    <tr>\n",
       "      <td>3</td>\n",
       "      <td>(34.1577, -118.3834)</td>\n",
       "    </tr>\n",
       "    <tr>\n",
       "      <td>4</td>\n",
       "      <td>(34.1875, -118.3921)</td>\n",
       "    </tr>\n",
       "    <tr>\n",
       "      <td>...</td>\n",
       "      <td>...</td>\n",
       "    </tr>\n",
       "    <tr>\n",
       "      <td>1733</td>\n",
       "      <td>(34.1595, -118.3571)</td>\n",
       "    </tr>\n",
       "    <tr>\n",
       "      <td>1734</td>\n",
       "      <td>(34.1958, -118.4105)</td>\n",
       "    </tr>\n",
       "    <tr>\n",
       "      <td>1735</td>\n",
       "      <td>(34.2051, -118.4247)</td>\n",
       "    </tr>\n",
       "    <tr>\n",
       "      <td>1736</td>\n",
       "      <td>(34.1215, -118.3855)</td>\n",
       "    </tr>\n",
       "    <tr>\n",
       "      <td>1737</td>\n",
       "      <td>(34.2191, -118.4133)</td>\n",
       "    </tr>\n",
       "  </tbody>\n",
       "</table>\n",
       "<p>1738 rows × 1 columns</p>\n",
       "</div>"
      ],
      "text/plain": [
       "                  Location\n",
       "0     (34.1831, -118.3856)\n",
       "1     (34.1831, -118.3878)\n",
       "2     (34.2012, -118.3866)\n",
       "3     (34.1577, -118.3834)\n",
       "4     (34.1875, -118.3921)\n",
       "...                    ...\n",
       "1733  (34.1595, -118.3571)\n",
       "1734  (34.1958, -118.4105)\n",
       "1735  (34.2051, -118.4247)\n",
       "1736  (34.1215, -118.3855)\n",
       "1737  (34.2191, -118.4133)\n",
       "\n",
       "[1738 rows x 1 columns]"
      ]
     },
     "execution_count": 25,
     "metadata": {},
     "output_type": "execute_result"
    }
   ],
   "source": [
    "# We're going to \"bin\" by locations.\n",
    "\n",
    "# Create an empty dataframe\n",
    "HeatBins_df = pd.DataFrame()\n",
    "\n",
    "# Set up a list of locations.\n",
    "HeatBins_df['Location'] = Cleaned_5Year_df['Location'].unique()\n",
    "HeatBins_df"
   ]
  },
  {
   "cell_type": "code",
   "execution_count": 26,
   "metadata": {},
   "outputs": [
    {
     "name": "stderr",
     "output_type": "stream",
     "text": [
      "C:\\Users\\Steph\\Anaconda3\\lib\\site-packages\\ipykernel_launcher.py:13: SettingWithCopyWarning: \n",
      "A value is trying to be set on a copy of a slice from a DataFrame\n",
      "\n",
      "See the caveats in the documentation: http://pandas.pydata.org/pandas-docs/stable/user_guide/indexing.html#returning-a-view-versus-a-copy\n",
      "  del sys.path[0]\n",
      "C:\\Users\\Steph\\Anaconda3\\lib\\site-packages\\ipykernel_launcher.py:14: SettingWithCopyWarning: \n",
      "A value is trying to be set on a copy of a slice from a DataFrame\n",
      "\n",
      "See the caveats in the documentation: http://pandas.pydata.org/pandas-docs/stable/user_guide/indexing.html#returning-a-view-versus-a-copy\n",
      "  \n"
     ]
    },
    {
     "data": {
      "text/html": [
       "<div>\n",
       "<style scoped>\n",
       "    .dataframe tbody tr th:only-of-type {\n",
       "        vertical-align: middle;\n",
       "    }\n",
       "\n",
       "    .dataframe tbody tr th {\n",
       "        vertical-align: top;\n",
       "    }\n",
       "\n",
       "    .dataframe thead th {\n",
       "        text-align: right;\n",
       "    }\n",
       "</style>\n",
       "<table border=\"1\" class=\"dataframe\">\n",
       "  <thead>\n",
       "    <tr style=\"text-align: right;\">\n",
       "      <th></th>\n",
       "      <th>Location</th>\n",
       "      <th>Lat</th>\n",
       "      <th>Lon</th>\n",
       "    </tr>\n",
       "  </thead>\n",
       "  <tbody>\n",
       "    <tr>\n",
       "      <td>0</td>\n",
       "      <td>(34.1831, -118.3856)</td>\n",
       "      <td>34.1831</td>\n",
       "      <td>-118.3856</td>\n",
       "    </tr>\n",
       "    <tr>\n",
       "      <td>1</td>\n",
       "      <td>(34.1831, -118.3878)</td>\n",
       "      <td>34.1831</td>\n",
       "      <td>-118.3878</td>\n",
       "    </tr>\n",
       "    <tr>\n",
       "      <td>2</td>\n",
       "      <td>(34.2012, -118.3866)</td>\n",
       "      <td>34.2012</td>\n",
       "      <td>-118.3866</td>\n",
       "    </tr>\n",
       "    <tr>\n",
       "      <td>3</td>\n",
       "      <td>(34.1577, -118.3834)</td>\n",
       "      <td>34.1577</td>\n",
       "      <td>-118.3834</td>\n",
       "    </tr>\n",
       "    <tr>\n",
       "      <td>4</td>\n",
       "      <td>(34.1875, -118.3921)</td>\n",
       "      <td>34.1875</td>\n",
       "      <td>-118.3921</td>\n",
       "    </tr>\n",
       "  </tbody>\n",
       "</table>\n",
       "</div>"
      ],
      "text/plain": [
       "               Location      Lat       Lon\n",
       "0  (34.1831, -118.3856)  34.1831 -118.3856\n",
       "1  (34.1831, -118.3878)  34.1831 -118.3878\n",
       "2  (34.2012, -118.3866)  34.2012 -118.3866\n",
       "3  (34.1577, -118.3834)  34.1577 -118.3834\n",
       "4  (34.1875, -118.3921)  34.1875 -118.3921"
      ]
     },
     "execution_count": 26,
     "metadata": {},
     "output_type": "execute_result"
    }
   ],
   "source": [
    "# Lets fill in the lat and long for the mapping.\n",
    "\n",
    "# Let's add 2 new columns of map coordinates\n",
    "\n",
    "HeatBins_df['Lat'] = 1.1\n",
    "HeatBins_df['Lon'] = 1.1\n",
    "\n",
    "# And fill them in\n",
    "for x in range(len(HeatBins_df)):\n",
    "    Raw_Lat, Raw_Lon = HeatBins_df.Location[x].split(',')\n",
    "    Lat = Raw_Lat[1:]\n",
    "    Lon = Raw_Lon[:-1]\n",
    "    HeatBins_df['Lat'][x] = float(Lat)\n",
    "    HeatBins_df['Lon'][x] = float(Lon)\n",
    "\n",
    "HeatBins_df.head()"
   ]
  },
  {
   "cell_type": "code",
   "execution_count": 27,
   "metadata": {},
   "outputs": [
    {
     "name": "stdout",
     "output_type": "stream",
     "text": [
      "<class 'pandas.core.frame.DataFrame'>\n",
      "RangeIndex: 13076 entries, 0 to 13075\n",
      "Data columns (total 11 columns):\n",
      "DR Number             13076 non-null int64\n",
      "Date Reported         13076 non-null object\n",
      "Date Occurred         13076 non-null datetime64[ns]\n",
      "Time Occurred         13076 non-null int64\n",
      "Reporting District    13076 non-null int64\n",
      "Address               13076 non-null object\n",
      "Cross Street          12757 non-null object\n",
      "Location              13076 non-null object\n",
      "MO Codes              12900 non-null object\n",
      "Lat                   13076 non-null float64\n",
      "Lon                   13076 non-null float64\n",
      "dtypes: datetime64[ns](1), float64(2), int64(3), object(5)\n",
      "memory usage: 1.1+ MB\n"
     ]
    }
   ],
   "source": [
    "Cleaned_5Year_df.info()"
   ]
  },
  {
   "cell_type": "code",
   "execution_count": 28,
   "metadata": {},
   "outputs": [
    {
     "name": "stderr",
     "output_type": "stream",
     "text": [
      "C:\\Users\\Steph\\Anaconda3\\lib\\site-packages\\ipykernel_launcher.py:11: SettingWithCopyWarning: \n",
      "A value is trying to be set on a copy of a slice from a DataFrame\n",
      "\n",
      "See the caveats in the documentation: http://pandas.pydata.org/pandas-docs/stable/user_guide/indexing.html#returning-a-view-versus-a-copy\n",
      "  # This is added back by InteractiveShellApp.init_path()\n"
     ]
    }
   ],
   "source": [
    "# now to create a column for the count\n",
    "\n",
    "HeatBins_df['Count']=0\n",
    "\n",
    "# and now iterate through the data\n",
    "\n",
    "for x in range(len(Cleaned_5Year_df)):\n",
    "    for y in range(len(HeatBins_df)):\n",
    "        try:\n",
    "            if Cleaned_5Year_df.Location[x]==HeatBins_df.Location[y]:\n",
    "                HeatBins_df.Count[y]+=1\n",
    "                break\n",
    "        except:\n",
    "            print(Cleaned_5Year_df['DR Number'][x])\n",
    "          "
   ]
  },
  {
   "cell_type": "code",
   "execution_count": 29,
   "metadata": {},
   "outputs": [
    {
     "data": {
      "text/html": [
       "<div>\n",
       "<style scoped>\n",
       "    .dataframe tbody tr th:only-of-type {\n",
       "        vertical-align: middle;\n",
       "    }\n",
       "\n",
       "    .dataframe tbody tr th {\n",
       "        vertical-align: top;\n",
       "    }\n",
       "\n",
       "    .dataframe thead th {\n",
       "        text-align: right;\n",
       "    }\n",
       "</style>\n",
       "<table border=\"1\" class=\"dataframe\">\n",
       "  <thead>\n",
       "    <tr style=\"text-align: right;\">\n",
       "      <th></th>\n",
       "      <th>Location</th>\n",
       "      <th>Lat</th>\n",
       "      <th>Lon</th>\n",
       "      <th>Count</th>\n",
       "    </tr>\n",
       "  </thead>\n",
       "  <tbody>\n",
       "    <tr>\n",
       "      <td>0</td>\n",
       "      <td>(34.1831, -118.3856)</td>\n",
       "      <td>34.1831</td>\n",
       "      <td>-118.3856</td>\n",
       "      <td>11</td>\n",
       "    </tr>\n",
       "    <tr>\n",
       "      <td>1</td>\n",
       "      <td>(34.1831, -118.3878)</td>\n",
       "      <td>34.1831</td>\n",
       "      <td>-118.3878</td>\n",
       "      <td>11</td>\n",
       "    </tr>\n",
       "    <tr>\n",
       "      <td>2</td>\n",
       "      <td>(34.2012, -118.3866)</td>\n",
       "      <td>34.2012</td>\n",
       "      <td>-118.3866</td>\n",
       "      <td>13</td>\n",
       "    </tr>\n",
       "    <tr>\n",
       "      <td>3</td>\n",
       "      <td>(34.1577, -118.3834)</td>\n",
       "      <td>34.1577</td>\n",
       "      <td>-118.3834</td>\n",
       "      <td>6</td>\n",
       "    </tr>\n",
       "    <tr>\n",
       "      <td>4</td>\n",
       "      <td>(34.1875, -118.3921)</td>\n",
       "      <td>34.1875</td>\n",
       "      <td>-118.3921</td>\n",
       "      <td>7</td>\n",
       "    </tr>\n",
       "    <tr>\n",
       "      <td>...</td>\n",
       "      <td>...</td>\n",
       "      <td>...</td>\n",
       "      <td>...</td>\n",
       "      <td>...</td>\n",
       "    </tr>\n",
       "    <tr>\n",
       "      <td>1733</td>\n",
       "      <td>(34.1595, -118.3571)</td>\n",
       "      <td>34.1595</td>\n",
       "      <td>-118.3571</td>\n",
       "      <td>1</td>\n",
       "    </tr>\n",
       "    <tr>\n",
       "      <td>1734</td>\n",
       "      <td>(34.1958, -118.4105)</td>\n",
       "      <td>34.1958</td>\n",
       "      <td>-118.4105</td>\n",
       "      <td>1</td>\n",
       "    </tr>\n",
       "    <tr>\n",
       "      <td>1735</td>\n",
       "      <td>(34.2051, -118.4247)</td>\n",
       "      <td>34.2051</td>\n",
       "      <td>-118.4247</td>\n",
       "      <td>1</td>\n",
       "    </tr>\n",
       "    <tr>\n",
       "      <td>1736</td>\n",
       "      <td>(34.1215, -118.3855)</td>\n",
       "      <td>34.1215</td>\n",
       "      <td>-118.3855</td>\n",
       "      <td>1</td>\n",
       "    </tr>\n",
       "    <tr>\n",
       "      <td>1737</td>\n",
       "      <td>(34.2191, -118.4133)</td>\n",
       "      <td>34.2191</td>\n",
       "      <td>-118.4133</td>\n",
       "      <td>1</td>\n",
       "    </tr>\n",
       "  </tbody>\n",
       "</table>\n",
       "<p>1738 rows × 4 columns</p>\n",
       "</div>"
      ],
      "text/plain": [
       "                  Location      Lat       Lon  Count\n",
       "0     (34.1831, -118.3856)  34.1831 -118.3856     11\n",
       "1     (34.1831, -118.3878)  34.1831 -118.3878     11\n",
       "2     (34.2012, -118.3866)  34.2012 -118.3866     13\n",
       "3     (34.1577, -118.3834)  34.1577 -118.3834      6\n",
       "4     (34.1875, -118.3921)  34.1875 -118.3921      7\n",
       "...                    ...      ...       ...    ...\n",
       "1733  (34.1595, -118.3571)  34.1595 -118.3571      1\n",
       "1734  (34.1958, -118.4105)  34.1958 -118.4105      1\n",
       "1735  (34.2051, -118.4247)  34.2051 -118.4247      1\n",
       "1736  (34.1215, -118.3855)  34.1215 -118.3855      1\n",
       "1737  (34.2191, -118.4133)  34.2191 -118.4133      1\n",
       "\n",
       "[1738 rows x 4 columns]"
      ]
     },
     "execution_count": 29,
     "metadata": {},
     "output_type": "execute_result"
    }
   ],
   "source": [
    "HeatBins_df"
   ]
  },
  {
   "cell_type": "code",
   "execution_count": 30,
   "metadata": {},
   "outputs": [],
   "source": [
    "Max_Intensity = HeatBins_df.Count.max()\n",
    "Weight = HeatBins_df.Count\n",
    "Locations = HeatBins_df[[\"Lat\",\"Lon\"]]"
   ]
  },
  {
   "cell_type": "code",
   "execution_count": 31,
   "metadata": {
    "scrolled": true
   },
   "outputs": [
    {
     "data": {
      "application/vnd.jupyter.widget-view+json": {
       "model_id": "c7f0e9fbdfc4489e803a9c805b728244",
       "version_major": 2,
       "version_minor": 0
      },
      "text/plain": [
       "Figure(layout=FigureLayout(height='420px'))"
      ]
     },
     "metadata": {},
     "output_type": "display_data"
    }
   ],
   "source": [
    "fig = gmaps.figure()\n",
    "\n",
    "# Here's our list of markers from before\n",
    "fig.add_layer(gmaps.symbol_layer(locations, info_box_content=incident_info, fill_color='blue',scale=1))\n",
    "# Here's our heatmap\n",
    "fig.add_layer(gmaps.heatmap_layer(Locations, weights=Weight, max_intensity=Max_Intensity))\n",
    "\n",
    "#Display the figure\n",
    "fig"
   ]
  },
  {
   "cell_type": "code",
   "execution_count": 33,
   "metadata": {},
   "outputs": [],
   "source": [
    "# write out CSV file\n",
    "\n",
    "Cleaned_5Year_df.to_csv('../Resources/Cleaned_5Year.csv', index=False)"
   ]
  },
  {
   "cell_type": "code",
   "execution_count": null,
   "metadata": {},
   "outputs": [],
   "source": []
  }
 ],
 "metadata": {
  "kernelspec": {
   "display_name": "Python 3",
   "language": "python",
   "name": "python3"
  },
  "language_info": {
   "codemirror_mode": {
    "name": "ipython",
    "version": 3
   },
   "file_extension": ".py",
   "mimetype": "text/x-python",
   "name": "python",
   "nbconvert_exporter": "python",
   "pygments_lexer": "ipython3",
   "version": "3.7.4"
  }
 },
 "nbformat": 4,
 "nbformat_minor": 2
}
