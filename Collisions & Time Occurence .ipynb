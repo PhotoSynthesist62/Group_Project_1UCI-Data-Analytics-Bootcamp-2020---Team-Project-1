{
 "cells": [
  {
   "cell_type": "code",
   "execution_count": null,
   "metadata": {},
   "outputs": [],
   "source": [
    "#import dependencies \n",
    "\n",
    "#create file path\n",
    "\n",
    "#read top 10 hotspots csv ()"
   ]
  },
  {
   "cell_type": "code",
   "execution_count": null,
   "metadata": {},
   "outputs": [],
   "source": [
    "#make sure the hotspots are reindexed 0-9"
   ]
  },
  {
   "cell_type": "code",
   "execution_count": null,
   "metadata": {},
   "outputs": [],
   "source": [
    "#bin the times \n",
    "# Create bins for each hour of the day. \n",
    "bins =[0,59,159,259,359, 459, 559, 659, 759, 859, 959, 1059, 1159, 1259, 1359, 1459, 1559, 1659, 1759, 1859, \n",
    "      1959, 2059, 2159, 2259, 2359]\n",
    "labels = ['12am-12:59am', '1am-1:59am', '2am-2:59am', '3am-3:59am','4am-4:59am''5am-5:59am', '6am-6:59am',\n",
    "         '7am-7:59am', '8am-8:59am', '9am-9:59am', '10am-10:59am', '11am-11:59am', '12pm-12:59pm', '1pm-1:59pm', '2pm-2:59pm',\n",
    "          '3pm-3:59pm', '4pm-4:59pm', '5pm-5:59pm', '6pm-6:59pm', '7pm-7:59pm', '8pm-8:59pm', '9am-9:59pm', '10pm-10:59pm',\n",
    "          '11pm-11:59pm']\n",
    "\n",
    "MO_bins_df = clean_df['MO Codes Time'] = pd.cut(clean_df['Time Occured'], bins, labels=labels)\n",
    "\n",
    "MO_bins_df"
   ]
  },
  {
   "cell_type": "code",
   "execution_count": null,
   "metadata": {},
   "outputs": [],
   "source": [
    "#sort values of accidents from largest count to smallest count. This will tell you which times are at high risk for accidents "
   ]
  },
  {
   "cell_type": "code",
   "execution_count": null,
   "metadata": {},
   "outputs": [],
   "source": [
    "#Create regression model. X = time of day Y = collision count"
   ]
  },
  {
   "cell_type": "code",
   "execution_count": null,
   "metadata": {},
   "outputs": [],
   "source": [
    "#What are the interpretations of the result? "
   ]
  },
  {
   "cell_type": "code",
   "execution_count": null,
   "metadata": {},
   "outputs": [],
   "source": [
    "#Optional: use loc function for special days e.g. Christmas or July 4th. "
   ]
  }
 ],
 "metadata": {
  "kernelspec": {
   "display_name": "Python 3",
   "language": "python",
   "name": "python3"
  },
  "language_info": {
   "codemirror_mode": {
    "name": "ipython",
    "version": 3
   },
   "file_extension": ".py",
   "mimetype": "text/x-python",
   "name": "python",
   "nbconvert_exporter": "python",
   "pygments_lexer": "ipython3",
   "version": "3.7.4"
  }
 },
 "nbformat": 4,
 "nbformat_minor": 2
}
